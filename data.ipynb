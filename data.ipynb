{
 "cells": [
  {
   "cell_type": "markdown",
   "id": "17c4ce2c",
   "metadata": {},
   "source": [
    "# Download FMA Data"
   ]
  },
  {
   "cell_type": "markdown",
   "id": "6465f3ed",
   "metadata": {},
   "source": [
    "Run this file once to download the FMA data from https://github.com/mdeff/fma"
   ]
  },
  {
   "cell_type": "markdown",
   "id": "be98da8b",
   "metadata": {},
   "source": [
    "## Download `fma_metadata.zip` and `fma_small.zip` data into `data/`\n",
    "Note: Download is about 8GB, unzipped is about 50GB."
   ]
  },
  {
   "cell_type": "code",
   "execution_count": 29,
   "id": "d287ed4e",
   "metadata": {},
   "outputs": [
    {
     "name": "stdout",
     "output_type": "stream",
     "text": [
      "/home/jupyter/music-genre-classification/data\n",
      "  % Total    % Received % Xferd  Average Speed   Time    Time     Time  Current\n",
      "                                 Dload  Upload   Total   Spent    Left  Speed\n",
      "100  341M  100  341M    0     0  27.0M      0  0:00:12  0:00:12 --:--:-- 30.1M0:02  0:00:21 14.8M\n",
      "  % Total    % Received % Xferd  Average Speed   Time    Time     Time  Current\n",
      "                                 Dload  Upload   Total   Spent    Left  Speed\n",
      "100 7323M  100 7323M    0     0  29.1M      0  0:04:11  0:04:11 --:--:-- 29.6M3:11 30.1M\n",
      "fma_metadata.zip: OK\n",
      "fma_small.zip: OK\n",
      "Archive:  fma_metadata.zip\n",
      "replace fma_metadata/README.txt? [y]es, [n]o, [A]ll, [N]one, [r]ename: ^C\n",
      "/home/jupyter/music-genre-classification\n"
     ]
    }
   ],
   "source": [
    "%cd data\n",
    "!curl -O https://os.unil.cloud.switch.ch/fma/fma_metadata.zip\n",
    "!curl -O https://os.unil.cloud.switch.ch/fma/fma_small.zip\n",
    "!echo \"f0df49ffe5f2a6008d7dc83c6915b31835dfe733  fma_metadata.zip\" | sha1sum -c\n",
    "!echo \"ade154f733639d52e35e32f5593efe5be76c6d70  fma_small.zip\"    | sha1sum -c\n",
    "!unzip -qqo fma_metadata.zip # -qqo suppresses output\n",
    "!unzip -qqo fma_small.zip\n",
    "%cd .."
   ]
  },
  {
   "cell_type": "markdown",
   "id": "04f679e8",
   "metadata": {},
   "source": [
    "## Download `utils.py` from FMA Github"
   ]
  },
  {
   "cell_type": "code",
   "execution_count": 47,
   "id": "405e03fb",
   "metadata": {},
   "outputs": [
    {
     "name": "stdout",
     "output_type": "stream",
     "text": [
      "  % Total    % Received % Xferd  Average Speed   Time    Time     Time  Current\n",
      "                                 Dload  Upload   Total   Spent    Left  Speed\n",
      "100 12480  100 12480    0     0   143k      0 --:--:-- --:--:-- --:--:--  141k\n"
     ]
    }
   ],
   "source": [
    "!curl -o utils.py \"https://raw.githubusercontent.com/mdeff/fma/master/utils.py\""
   ]
  },
  {
   "cell_type": "code",
   "execution_count": null,
   "id": "045cb236",
   "metadata": {},
   "outputs": [],
   "source": []
  }
 ],
 "metadata": {
  "environment": {
   "name": "pytorch-gpu.1-8.m68",
   "type": "gcloud",
   "uri": "gcr.io/deeplearning-platform-release/pytorch-gpu.1-8:m68"
  },
  "kernelspec": {
   "display_name": "Python 3",
   "language": "python",
   "name": "python3"
  },
  "language_info": {
   "codemirror_mode": {
    "name": "ipython",
    "version": 3
   },
   "file_extension": ".py",
   "mimetype": "text/x-python",
   "name": "python",
   "nbconvert_exporter": "python",
   "pygments_lexer": "ipython3",
   "version": "3.7.10"
  }
 },
 "nbformat": 4,
 "nbformat_minor": 5
}
