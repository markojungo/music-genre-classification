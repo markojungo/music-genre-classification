{
 "cells": [
  {
   "cell_type": "code",
   "execution_count": 3,
   "id": "11471d58",
   "metadata": {},
   "outputs": [],
   "source": [
    "import torch\n",
    "import os\n",
    "\n",
    "import torch\n",
    "import torch.nn as nn\n",
    "import torch.nn.functional as F\n",
    "from torch.utils.data import Dataset, DataLoader\n",
    "from torch import optim\n",
    "from torch.optim import lr_scheduler\n",
    "from torchvision import transforms\n",
    "\n",
    "import numpy as np\n",
    "import pandas as pd\n",
    "from PIL import Image\n",
    "import time\n",
    "\n",
    "import librosa\n",
    "import librosa.display\n",
    "\n",
    "import matplotlib.pyplot as plt\n",
    "\n",
    "import deepdish as dd\n",
    "\n",
    "import utils\n",
    "from trainer.UNet import UNet\n",
    "from trainer.utils import FMADataset"
   ]
  },
  {
   "cell_type": "code",
   "execution_count": 4,
   "id": "f34f169e",
   "metadata": {},
   "outputs": [],
   "source": [
    "X = dd.io.load('data/fma_preprocessed/X_3.h5')\n",
    "Y = dd.io.load('data/fma_preprocessed/Y_3.h5')"
   ]
  },
  {
   "cell_type": "code",
   "execution_count": 5,
   "id": "19d49363",
   "metadata": {},
   "outputs": [],
   "source": [
    "# standardize images\n",
    "mean = np.mean(X['training'])\n",
    "std = np.std(X['training'])\n",
    "\n",
    "for k in X.keys():\n",
    "    X[k] = (X[k] - mean) / std"
   ]
  },
  {
   "cell_type": "code",
   "execution_count": 22,
   "id": "26599c1b",
   "metadata": {},
   "outputs": [
    {
     "name": "stdout",
     "output_type": "stream",
     "text": [
      "tensor(0.4104)\n"
     ]
    }
   ],
   "source": [
    "test_acc = 0.\n",
    "\n",
    "test_set = FMADataset(X, Y, mode='test')\n",
    "test_loader = DataLoader(test_set, batch_size=64, shuffle=True)\n",
    "\n",
    "model_paths = [\n",
    "    'results/11/model_intermediate0.4892_B42_LR0.0002607264726285735.pth',\n",
    "    'results/10/model_intermediate0.4888_B42_LR0.0004042345079351265.pth',\n",
    "    'results/3/model_B42_LR0.0002996498451642352.pth',\n",
    "    'results/3/model_intermediate0.4817_B42_LR0.0002996498451642352.pth',\n",
    "    'results/22/model_SOneCycleLR_B42_LR0.009414192900389376.pth',\n",
    "    'results/27/model_SOneCycleLR_B41_LR0.010132984105149187.pth',\n",
    "    'results/30/model_intermediate0.4779_B42_LR0.00030461574329755707.pth',\n",
    "    'results/30/model_intermediate0.4704_B42_LR0.00030461574329755707.pth'\n",
    "]\n",
    "\n",
    "# Load model\n",
    "model = UNet()\n",
    "model.load_state_dict(torch.load(model_paths[1], map_location=torch.device('cpu')))\n",
    "model.eval()\n",
    "\n",
    "for xs, ys in test_loader:\n",
    "    probs = model(xs)\n",
    "    ys = torch.max(ys, 1)[1]\n",
    "    pred = probs.cpu().argmax(1)\n",
    "    test_acc += (pred == ys).sum()\n",
    "    \n",
    "test_acc /= len(test_loader.dataset)\n",
    "\n",
    "print(test_acc)"
   ]
  },
  {
   "cell_type": "code",
   "execution_count": null,
   "id": "b9a9a21e",
   "metadata": {},
   "outputs": [],
   "source": []
  }
 ],
 "metadata": {
  "environment": {
   "name": "pytorch-gpu.1-8.m68",
   "type": "gcloud",
   "uri": "gcr.io/deeplearning-platform-release/pytorch-gpu.1-8:m68"
  },
  "kernelspec": {
   "display_name": "Python 3",
   "language": "python",
   "name": "python3"
  },
  "language_info": {
   "codemirror_mode": {
    "name": "ipython",
    "version": 3
   },
   "file_extension": ".py",
   "mimetype": "text/x-python",
   "name": "python",
   "nbconvert_exporter": "python",
   "pygments_lexer": "ipython3",
   "version": "3.7.10"
  }
 },
 "nbformat": 4,
 "nbformat_minor": 5
}
