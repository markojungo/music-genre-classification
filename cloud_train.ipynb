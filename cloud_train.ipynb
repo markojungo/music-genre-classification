{
 "cells": [
  {
   "cell_type": "markdown",
   "id": "c793133d",
   "metadata": {},
   "source": [
    "# Send training request to Google AI Platform"
   ]
  },
  {
   "cell_type": "code",
   "execution_count": 2,
   "id": "e9a6c6dc",
   "metadata": {},
   "outputs": [],
   "source": [
    "BUCKET_NAME = 'gs://fma_bucket' #@param {type:\"string\"}\n",
    "JOB_NAME = 'my_job_test3' #@param {type:\"string\"}\n",
    "JOB_DIR = 'gs://fma_bucket/' + JOB_NAME + '/models' #@param {type:\"string\"}\n",
    "REGION = 'us-central1' #@param {type:\"string\"}\n",
    "IMAGE_URI='gcr.io/cloud-ml-public/training/pytorch-gpu.1-7' #@param {type:\"string\"}"
   ]
  },
  {
   "cell_type": "code",
   "execution_count": 53,
   "id": "f3dba3a2",
   "metadata": {},
   "outputs": [
    {
     "name": "stdout",
     "output_type": "stream",
     "text": [
      "gs://fma_bucket/fma_small/\n"
     ]
    }
   ],
   "source": [
    "!gsutil ls $BUCKET_NAME"
   ]
  },
  {
   "cell_type": "markdown",
   "id": "f7d5443c",
   "metadata": {},
   "source": [
    "## Test small job locally first"
   ]
  },
  {
   "cell_type": "code",
   "execution_count": 5,
   "id": "23a3dad3",
   "metadata": {},
   "outputs": [
    {
     "name": "stdout",
     "output_type": "stream",
     "text": [
      "\u001b[1;33mWARNING:\u001b[0m \n",
      "    Cannot import tensorflow under path /opt/conda/bin/python. Using \"chief\" for cluster setting.\n",
      "    If this is not intended, Please check if tensorflow is installed. Please also\n",
      "    verify if the python path used is correct. If not, to change the python path:\n",
      "    use `gcloud config set ml_engine/local_python $python_path`\n",
      "    Eg: gcloud config set ml_engine/local_python /usr/bin/python3\n",
      "\u001b[1;33mWARNING:\u001b[0m \n",
      "    Cannot import tensorflow under path /opt/conda/bin/python. Using \"chief\" for cluster setting.\n",
      "    If this is not intended, Please check if tensorflow is installed. Please also\n",
      "    verify if the python path used is correct. If not, to change the python path:\n",
      "    use `gcloud config set ml_engine/local_python $python_path`\n",
      "    Eg: gcloud config set ml_engine/local_python /usr/bin/python3\n",
      "Copying gs://fma_preprocessed_data/X_1.h5...\n",
      "==> NOTE: You are downloading one or more large file(s), which would            \n",
      "run significantly faster if you enabled sliced object downloads. This\n",
      "feature is enabled by default but requires that compiled crcmod be\n",
      "installed (see \"gsutil help crcmod\").\n",
      "\n",
      "- [1 files][396.5 MiB/396.5 MiB]                                                \n",
      "Operation completed over 1 objects/396.5 MiB.                                    \n",
      "Copying gs://fma_preprocessed_data/Y_1.h5...\n",
      "/ [1 files][ 14.1 KiB/ 14.1 KiB]                                                \n",
      "Operation completed over 1 objects/14.1 KiB.                                     \n",
      "/home/jupyter/music-genre-classification/trainer/UNet.py:16: UserWarning: nn.init.xavier_uniform is now deprecated in favor of nn.init.xavier_uniform_.\n",
      "  nn.init.xavier_uniform(m.weight)\n",
      "         Train Loss    Val Loss    Train Acc     Val Acc\n",
      "^C\n",
      "Traceback (most recent call last):\n",
      "  File \"/opt/conda/lib/python3.7/runpy.py\", line 193, in _run_module_as_main\n",
      "    \"__main__\", mod_spec)\n",
      "  File \"/opt/conda/lib/python3.7/runpy.py\", line 85, in _run_code\n",
      "    exec(code, run_globals)\n",
      "  File \"/home/jupyter/music-genre-classification/trainer/train.py\", line 158, in <module>\n"
     ]
    }
   ],
   "source": [
    "!gcloud ai-platform local train \\\n",
    " --module-name trainer.train \\\n",
    " --package-path ./src \\\n",
    " --job-dir $JOB_DIR \\\n",
    " -- \\\n",
    " --num-epochs 3 \\\n",
    " --batch-size 8 \\\n",
    " --learning-rate 0.001 \\\n",
    " --net \"UNet\""
   ]
  },
  {
   "cell_type": "markdown",
   "id": "701ebf3a",
   "metadata": {},
   "source": [
    "## Run a small job"
   ]
  },
  {
   "cell_type": "code",
   "execution_count": null,
   "id": "d754fba5",
   "metadata": {},
   "outputs": [
    {
     "name": "stdout",
     "output_type": "stream",
     "text": [
      "Job [my_job_test3] submitted successfully.\n",
      "Your job is still active. You may view the status of your job with the command\n",
      "\n",
      "  $ gcloud ai-platform jobs describe my_job_test3\n",
      "\n",
      "or continue streaming the logs with the command\n",
      "\n",
      "  $ gcloud ai-platform jobs stream-logs my_job_test3\n",
      "jobId: my_job_test3\n",
      "state: QUEUED\n",
      "INFO\t2021-05-10 21:46:44 +0000\tservice\t\tValidating job requirements...\n",
      "INFO\t2021-05-10 21:46:44 +0000\tservice\t\tJob creation request has been successfully validated.\n",
      "INFO\t2021-05-10 21:46:44 +0000\tservice\t\tWaiting for job to be provisioned.\n",
      "INFO\t2021-05-10 21:46:44 +0000\tservice\t\tJob my_job_test3 is queued.\n",
      "INFO\t2021-05-10 21:46:45 +0000\tservice\t\tWaiting for training program to start.\n",
      "INFO\t2021-05-10 21:53:32 +0000\tmaster-replica-0\t\t\n",
      "INFO\t2021-05-10 21:53:32 +0000\tmaster-replica-0\t\t\n",
      "INFO\t2021-05-10 21:53:32 +0000\tmaster-replica-0\t\t\n",
      "INFO\t2021-05-10 21:53:32 +0000\tmaster-replica-0\t\t\n",
      "INFO\t2021-05-10 21:53:32 +0000\tmaster-replica-0\t\t\n",
      "INFO\t2021-05-10 21:57:22 +0000\tmaster-replica-0\t\tINFO:Updating master address to local address cmle-training-1390580703435799448\n",
      "INFO\t2021-05-10 21:57:22 +0000\tmaster-replica-0\t\tINFO:Running run_module.py\n",
      "INFO\t2021-05-10 21:57:22 +0000\tmaster-replica-0\t\tINFO:Running task with arguments: --module_name=trainer.train --package_uris=gs://fma_bucket/my_job_test3/models/packages/352d68031a133ace12084913d9796761f4b7ea9417c58fdb789a78e6e135780e/trainer-0.1.tar.gz --num-epochs 100 --batch-size 128 --learning-rate 0.001 --net UNet --job-dir=gs://fma_bucket/my_job_test3/models\n",
      "INFO\t2021-05-10 21:57:22 +0000\tmaster-replica-0\t\tINFO:Running module trainer.train.\n",
      "INFO\t2021-05-10 21:57:22 +0000\tmaster-replica-0\t\tINFO:Downloading the package: gs://fma_bucket/my_job_test3/models/packages/352d68031a133ace12084913d9796761f4b7ea9417c58fdb789a78e6e135780e/trainer-0.1.tar.gz\n",
      "INFO\t2021-05-10 21:57:22 +0000\tmaster-replica-0\t\tINFO:Running command: gsutil -q cp gs://fma_bucket/my_job_test3/models/packages/352d68031a133ace12084913d9796761f4b7ea9417c58fdb789a78e6e135780e/trainer-0.1.tar.gz trainer-0.1.tar.gz\n",
      "INFO\t2021-05-10 21:57:24 +0000\tmaster-replica-0\t\tINFO:Installing the package: gs://fma_bucket/my_job_test3/models/packages/352d68031a133ace12084913d9796761f4b7ea9417c58fdb789a78e6e135780e/trainer-0.1.tar.gz\n",
      "INFO\t2021-05-10 21:57:24 +0000\tmaster-replica-0\t\tINFO:Running command: pip3 install --user --upgrade --force-reinstall --no-deps trainer-0.1.tar.gz\n",
      "INFO\t2021-05-10 21:57:24 +0000\tmaster-replica-0\t\tProcessing /trainer-0.1.tar.gz\n",
      "INFO\t2021-05-10 21:57:25 +0000\tmaster-replica-0\t\tBuilding wheels for collected packages: trainer\n",
      "INFO\t2021-05-10 21:57:25 +0000\tmaster-replica-0\t\t  Building wheel for trainer (setup.py): started\n",
      "INFO\t2021-05-10 21:57:25 +0000\tmaster-replica-0\t\t  Building wheel for trainer (setup.py): finished with status 'done'\n",
      "INFO\t2021-05-10 21:57:25 +0000\tmaster-replica-0\t\t  Created wheel for trainer: filename=trainer-0.1-py3-none-any.whl size=5210 sha256=bbf109a11a48712cd710801d2397dbd1d40e768964cfaa418f88ff053e64e3f3\n",
      "INFO\t2021-05-10 21:57:25 +0000\tmaster-replica-0\t\t  Stored in directory: /root/.cache/pip/wheels/85/8e/fc/369b9127972cb554e70a10fc50e449daeaa06845e9493c9552\n",
      "INFO\t2021-05-10 21:57:25 +0000\tmaster-replica-0\t\tSuccessfully built trainer\n",
      "INFO\t2021-05-10 21:57:25 +0000\tmaster-replica-0\t\tInstalling collected packages: trainer\n",
      "INFO\t2021-05-10 21:57:25 +0000\tmaster-replica-0\t\tSuccessfully installed trainer-0.1\n",
      "INFO\t2021-05-10 21:57:26 +0000\tmaster-replica-0\t\tINFO:Running command: pip3 install --user trainer-0.1.tar.gz\n",
      "INFO\t2021-05-10 21:57:26 +0000\tmaster-replica-0\t\tProcessing /trainer-0.1.tar.gz\n",
      "INFO\t2021-05-10 21:57:27 +0000\tmaster-replica-0\t\tCollecting deepdish>=0.3.6\n",
      "INFO\t2021-05-10 21:57:27 +0000\tmaster-replica-0\t\t  Downloading deepdish-0.3.6-py2.py3-none-any.whl (36 kB)\n",
      "INFO\t2021-05-10 21:57:27 +0000\tmaster-replica-0\t\tCollecting tables\n",
      "INFO\t2021-05-10 21:57:27 +0000\tmaster-replica-0\t\t  Downloading tables-3.6.1-cp37-cp37m-manylinux1_x86_64.whl (4.3 MB)\n",
      "INFO\t2021-05-10 21:57:27 +0000\tmaster-replica-0\t\tRequirement already satisfied: numpy in /opt/conda/lib/python3.7/site-packages (from deepdish>=0.3.6->trainer==0.1) (1.19.5)\n",
      "INFO\t2021-05-10 21:57:27 +0000\tmaster-replica-0\t\tRequirement already satisfied: scipy in /opt/conda/lib/python3.7/site-packages (from deepdish>=0.3.6->trainer==0.1) (1.6.0)\n",
      "INFO\t2021-05-10 21:57:27 +0000\tmaster-replica-0\t\tCollecting numexpr>=2.6.2\n",
      "INFO\t2021-05-10 21:57:27 +0000\tmaster-replica-0\t\t  Downloading numexpr-2.7.3-cp37-cp37m-manylinux2010_x86_64.whl (471 kB)\n",
      "ERROR\t2021-05-10 21:57:27 +0000\tmaster-replica-0\t\tDEPRECATION: Source distribution is being reinstalled despite an installed package having the same name and version as the installed package. pip 21.1 will remove support for this functionality. A possible replacement is use --force-reinstall. You can find discussion regarding this at https://github.com/pypa/pip/issues/8711.\n",
      "INFO\t2021-05-10 21:57:27 +0000\tmaster-replica-0\t\tBuilding wheels for collected packages: trainer\n",
      "INFO\t2021-05-10 21:57:27 +0000\tmaster-replica-0\t\t  Building wheel for trainer (setup.py): started\n",
      "INFO\t2021-05-10 21:57:28 +0000\tmaster-replica-0\t\t  Building wheel for trainer (setup.py): finished with status 'done'\n",
      "INFO\t2021-05-10 21:57:28 +0000\tmaster-replica-0\t\t  Created wheel for trainer: filename=trainer-0.1-py3-none-any.whl size=5210 sha256=6a5c8cd74fc8aa1c966ad78324ead38712dcd0b79aee4b2542e5aedd0ae36bcf\n",
      "INFO\t2021-05-10 21:57:28 +0000\tmaster-replica-0\t\t  Stored in directory: /root/.cache/pip/wheels/85/8e/fc/369b9127972cb554e70a10fc50e449daeaa06845e9493c9552\n",
      "INFO\t2021-05-10 21:57:28 +0000\tmaster-replica-0\t\tSuccessfully built trainer\n",
      "INFO\t2021-05-10 21:57:29 +0000\tmaster-replica-0\t\tInstalling collected packages: numexpr, tables, deepdish, trainer\n",
      "ERROR\t2021-05-10 21:57:29 +0000\tmaster-replica-0\t\t  WARNING: The scripts pt2to3, ptdump, ptrepack and pttree are installed in '/root/.local/bin' which is not on PATH.\n",
      "ERROR\t2021-05-10 21:57:29 +0000\tmaster-replica-0\t\t  Consider adding this directory to PATH or, if you prefer to suppress this warning, use --no-warn-script-location.\n",
      "INFO\t2021-05-10 21:57:29 +0000\tmaster-replica-0\t\t  Attempting uninstall: trainer\n",
      "INFO\t2021-05-10 21:57:29 +0000\tmaster-replica-0\t\t    Found existing installation: trainer 0.1\n",
      "INFO\t2021-05-10 21:57:29 +0000\tmaster-replica-0\t\t    Uninstalling trainer-0.1:\n",
      "INFO\t2021-05-10 21:57:29 +0000\tmaster-replica-0\t\t      Successfully uninstalled trainer-0.1\n",
      "INFO\t2021-05-10 21:57:29 +0000\tmaster-replica-0\t\tSuccessfully installed deepdish-0.3.6 numexpr-2.7.3 tables-3.6.1 trainer-0.1\n",
      "INFO\t2021-05-10 21:57:29 +0000\tmaster-replica-0\t\tINFO:Running command: python3 -m trainer.train --num-epochs 100 --batch-size 128 --learning-rate 0.001 --net UNet --job-dir=gs://fma_bucket/my_job_test3/models\n",
      "ERROR\t2021-05-10 21:57:32 +0000\tmaster-replica-0\t\tCopying gs://fma_preprocessed_data/X.h5...\n",
      "ERROR\t2021-05-10 21:57:32 +0000\tmaster-replica-0\t\t/ [0 files][    0.0 B/  1.2 GiB]                                                \n",
      "ERROR\t2021-05-10 21:57:32 +0000\tmaster-replica-0\t\t==> NOTE: You are downloading one or more large file(s), which would\n",
      "ERROR\t2021-05-10 21:57:32 +0000\tmaster-replica-0\t\trun significantly faster if you enabled sliced object downloads. This\n",
      "ERROR\t2021-05-10 21:57:32 +0000\tmaster-replica-0\t\tfeature is enabled by default but requires that compiled crcmod be\n",
      "ERROR\t2021-05-10 21:57:32 +0000\tmaster-replica-0\t\tinstalled (see \"gsutil help crcmod\").\n",
      "ERROR\t2021-05-10 21:57:32 +0000\tmaster-replica-0\t\t\n",
      "ERROR\t2021-05-10 21:57:54 +0000\tmaster-replica-0\t\t-\n",
      "ERROR\t2021-05-10 21:57:54 +0000\tmaster-replica-0\t\t- [0 files][ 99.3 MiB/  1.2 GiB]                                                \n",
      "ERROR\t2021-05-10 21:57:54 +0000\tmaster-replica-0\t\t\\\n",
      "ERROR\t2021-05-10 21:57:54 +0000\tmaster-replica-0\t\t|\n",
      "ERROR\t2021-05-10 21:57:54 +0000\tmaster-replica-0\t\t| [0 files][227.6 MiB/  1.2 GiB]                                                \n",
      "ERROR\t2021-05-10 21:57:54 +0000\tmaster-replica-0\t\t/\n",
      "ERROR\t2021-05-10 21:57:54 +0000\tmaster-replica-0\t\t/ [0 files][354.8 MiB/  1.2 GiB]                                                \n",
      "ERROR\t2021-05-10 21:57:54 +0000\tmaster-replica-0\t\t-\n",
      "ERROR\t2021-05-10 21:57:54 +0000\tmaster-replica-0\t\t\\\n",
      "ERROR\t2021-05-10 21:57:54 +0000\tmaster-replica-0\t\t\\ [0 files][484.7 MiB/  1.2 GiB]                                                \n",
      "ERROR\t2021-05-10 21:57:54 +0000\tmaster-replica-0\t\t|\n",
      "ERROR\t2021-05-10 21:57:54 +0000\tmaster-replica-0\t\t/\n",
      "ERROR\t2021-05-10 21:57:54 +0000\tmaster-replica-0\t\t/ [0 files][612.6 MiB/  1.2 GiB]                                                \n",
      "ERROR\t2021-05-10 21:57:54 +0000\tmaster-replica-0\t\t-\n",
      "ERROR\t2021-05-10 21:57:54 +0000\tmaster-replica-0\t\t- [0 files][734.2 MiB/  1.2 GiB]                                                \n",
      "ERROR\t2021-05-10 21:57:54 +0000\tmaster-replica-0\t\t\\\n",
      "ERROR\t2021-05-10 21:57:54 +0000\tmaster-replica-0\t\t|\n",
      "ERROR\t2021-05-10 21:57:54 +0000\tmaster-replica-0\t\t| [0 files][859.8 MiB/  1.2 GiB]                                                \n",
      "ERROR\t2021-05-10 21:57:54 +0000\tmaster-replica-0\t\t/\n",
      "ERROR\t2021-05-10 21:57:54 +0000\tmaster-replica-0\t\t-\n",
      "ERROR\t2021-05-10 21:57:54 +0000\tmaster-replica-0\t\t- [0 files][989.5 MiB/  1.2 GiB]                                                \n",
      "ERROR\t2021-05-10 21:57:54 +0000\tmaster-replica-0\t\t\\\n",
      "ERROR\t2021-05-10 21:57:54 +0000\tmaster-replica-0\t\t\\ [0 files][  1.1 GiB/  1.2 GiB]                                                \n",
      "ERROR\t2021-05-10 21:57:54 +0000\tmaster-replica-0\t\t|\n",
      "ERROR\t2021-05-10 21:57:54 +0000\tmaster-replica-0\t\t/\n",
      "ERROR\t2021-05-10 21:57:54 +0000\tmaster-replica-0\t\t/ [1 files][  1.2 GiB/  1.2 GiB]                                                \n",
      "ERROR\t2021-05-10 21:57:54 +0000\tmaster-replica-0\t\t-\n",
      "ERROR\t2021-05-10 21:57:54 +0000\tmaster-replica-0\t\tOperation completed over 1 objects/1.2 GiB.                                      \n",
      "ERROR\t2021-05-10 21:57:56 +0000\tmaster-replica-0\t\tCopying gs://fma_preprocessed_data/Y.h5...\n",
      "ERROR\t2021-05-10 21:57:57 +0000\tmaster-replica-0\t\t/ [0 files][    0.0 B/ 16.3 KiB]                                                \n",
      "ERROR\t2021-05-10 21:57:57 +0000\tmaster-replica-0\t\t/ [1 files][ 16.3 KiB/ 16.3 KiB]                                                \n",
      "ERROR\t2021-05-10 21:57:57 +0000\tmaster-replica-0\t\tOperation completed over 1 objects/16.3 KiB.                                     \n",
      "ERROR\t2021-05-10 21:58:08 +0000\tmaster-replica-0\t\t/root/.local/lib/python3.7/site-packages/trainer/UNet.py:16: UserWarning: nn.init.xavier_uniform is now deprecated in favor of nn.init.xavier_uniform_.\n",
      "ERROR\t2021-05-10 21:58:08 +0000\tmaster-replica-0\t\t  nn.init.xavier_uniform(m.weight)\n",
      "INFO\t2021-05-10 21:58:10 +0000\tmaster-replica-0\t\t     Train Loss    Val Loss\n",
      "INFO\t2021-05-10 22:02:43 +0000\tmaster-replica-0\t\t    0        2.0949      2.0640\n",
      "INFO\t2021-05-10 22:07:15 +0000\tmaster-replica-0\t\t    1        2.0647      2.0634\n",
      "INFO\t2021-05-10 22:11:46 +0000\tmaster-replica-0\t\t    2        2.0645      2.0636\n",
      "INFO\t2021-05-10 22:16:19 +0000\tmaster-replica-0\t\t    3        2.0640      2.0779\n",
      "INFO\t2021-05-10 22:20:53 +0000\tmaster-replica-0\t\t    4        2.0646      2.0847\n",
      "INFO\t2021-05-10 22:25:25 +0000\tmaster-replica-0\t\t    5        2.0746      2.0631\n",
      "INFO\t2021-05-10 22:29:58 +0000\tmaster-replica-0\t\t    6        2.0746      2.0741\n",
      "INFO\t2021-05-10 22:34:29 +0000\tmaster-replica-0\t\t    7        2.0638      2.0634\n"
     ]
    }
   ],
   "source": [
    "!gcloud ai-platform jobs submit training $JOB_NAME \\\n",
    " --package-path trainer/ \\\n",
    " --module-name trainer.train \\\n",
    " --master-image-uri $IMAGE_URI \\\n",
    " --region $REGION \\\n",
    " --scale-tier BASIC_GPU \\\n",
    " --job-dir $JOB_DIR \\\n",
    " -- \\\n",
    " --num-epochs 100 \\\n",
    " --batch-size 128 \\\n",
    " --learning-rate 0.01 \\\n",
    " --net \"UNet\"\n",
    "\n",
    "# Stream the logs from the job\n",
    "!gcloud ai-platform jobs stream-logs $JOB_NAME"
   ]
  },
  {
   "cell_type": "code",
   "execution_count": 28,
   "id": "dbbb0b8a",
   "metadata": {},
   "outputs": [
    {
     "name": "stdout",
     "output_type": "stream",
     "text": [
      "Removing gs://fma_bucket/pytorch-job-dir/packages/a6d40b7344cd12822e3d3505c0114b514db626c52b5bfac15bfcc09d418ff905/trainer-0.0.0.tar.gz#1620605583944796...\n",
      "Removing gs://fma_bucket/pytorch-job-dir/packages/ec99a0eb6b19e8767257111fcf846b0d7128e855e43fa57f5d198fd689e5523d/trainer-0.0.0.tar.gz#1620605564255878...\n",
      "/ [2 objects]                                                                   \n",
      "Operation completed over 2 objects.                                              \n"
     ]
    }
   ],
   "source": [
    "# Verify model was uploaded\n",
    "!gsutil ls gs://fma_bucket"
   ]
  },
  {
   "cell_type": "code",
   "execution_count": null,
   "id": "3d94cf76",
   "metadata": {},
   "outputs": [],
   "source": []
  }
 ],
 "metadata": {
  "environment": {
   "name": "pytorch-gpu.1-8.m68",
   "type": "gcloud",
   "uri": "gcr.io/deeplearning-platform-release/pytorch-gpu.1-8:m68"
  },
  "kernelspec": {
   "display_name": "Python 3",
   "language": "python",
   "name": "python3"
  },
  "language_info": {
   "codemirror_mode": {
    "name": "ipython",
    "version": 3
   },
   "file_extension": ".py",
   "mimetype": "text/x-python",
   "name": "python",
   "nbconvert_exporter": "python",
   "pygments_lexer": "ipython3",
   "version": "3.7.10"
  }
 },
 "nbformat": 4,
 "nbformat_minor": 5
}
