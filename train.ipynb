{
 "cells": [
  {
   "cell_type": "code",
   "execution_count": 44,
   "id": "d9353acb",
   "metadata": {},
   "outputs": [],
   "source": [
    "import torch\n",
    "from trainer.Model1 import UNet\n",
    "\n",
    "import os\n",
    "\n",
    "import torch\n",
    "import torch.nn as nn\n",
    "import torch.nn.functional as F\n",
    "from torch.utils.data import Dataset, DataLoader\n",
    "from torch import optim\n",
    "from torch.optim import lr_scheduler\n",
    "from torchvision import transforms\n",
    "\n",
    "import numpy as np\n",
    "import pandas as pd\n",
    "from PIL import Image\n",
    "import time\n",
    "\n",
    "import librosa\n",
    "import librosa.display\n",
    "\n",
    "import matplotlib.pyplot as plt\n",
    "\n",
    "import deepdish as dd\n",
    "from multiprocessing import Pool, set_start_method\n",
    "\n",
    "import utils"
   ]
  },
  {
   "cell_type": "code",
   "execution_count": 2,
   "id": "3de5ef67",
   "metadata": {},
   "outputs": [],
   "source": [
    "import warnings\n",
    "warnings.simplefilter('ignore')"
   ]
  },
  {
   "cell_type": "code",
   "execution_count": 3,
   "id": "3d81fb54",
   "metadata": {},
   "outputs": [],
   "source": [
    "AUDIO_DIR = 'data/fma_small'\n",
    "tracks = utils.load('data/fma_metadata/tracks.csv')\n",
    "genres = utils.load('data/fma_metadata/genres.csv')\n",
    "features = utils.load('data/fma_metadata/features.csv')\n",
    "echonest = utils.load('data/fma_metadata/echonest.csv')"
   ]
  },
  {
   "cell_type": "code",
   "execution_count": 5,
   "id": "dbc2adb9",
   "metadata": {},
   "outputs": [],
   "source": [
    "small_tracks = tracks[tracks['set', 'subset'] <= 'small']\n",
    "small_genres = ['Electronic', 'Experimental', 'Folk', 'Hip-Hop', 'Instrumental', 'International', 'Pop', 'Rock']"
   ]
  },
  {
   "cell_type": "markdown",
   "id": "f838df70",
   "metadata": {},
   "source": [
    "# Load preprocessed files"
   ]
  },
  {
   "cell_type": "code",
   "execution_count": 36,
   "id": "d86cf235",
   "metadata": {},
   "outputs": [],
   "source": [
    "X = dd.io.load('data/fma_preprocessed/X.h5')\n",
    "Y = dd.io.load('data/fma_preprocessed/Y.h5')"
   ]
  },
  {
   "cell_type": "code",
   "execution_count": 37,
   "id": "449cad20",
   "metadata": {},
   "outputs": [
    {
     "name": "stdout",
     "output_type": "stream",
     "text": [
      "                              X                   Y\n",
      "Training:   (19170, 1, 256, 256)          (19170, 8)\n",
      "Validation:  (2399, 1, 256, 256)           (2399, 8)\n",
      "Test:        (2399, 1, 256, 256)           (2399, 8)\n"
     ]
    }
   ],
   "source": [
    "# Assuming files are preprocessed as image (256x256x3), labels are just strings\n",
    "n = 3\n",
    "print(f'{\"X\":>31s}{\"Y\":>20s}')\n",
    "print(f\"Training:   {str(X['training'].shape):>20s}{str(Y['training'].shape):>20s}\")\n",
    "print(f\"Validation: {str(X['validation'].shape):>20s}{str(Y['validation'].shape):>20s}\")\n",
    "print(f\"Test:       {str(X['test'].shape):>20s}{str(Y['test'].shape):>20s}\")"
   ]
  },
  {
   "cell_type": "markdown",
   "id": "6226bdbf",
   "metadata": {},
   "source": [
    "## Define Dataset and Model classes"
   ]
  },
  {
   "cell_type": "code",
   "execution_count": 67,
   "id": "6d62d6e3",
   "metadata": {},
   "outputs": [],
   "source": [
    "class FMADataset(Dataset):\n",
    "    def __init__(self, mode='training'):\n",
    "        if mode not in ('training', 'validation', 'test'):\n",
    "            raise Error('mode must be training, validation, or test.')\n",
    "        self.mode = mode\n",
    "        self.x = X[mode]\n",
    "        self.y = Y[mode]\n",
    "        \n",
    "    def __len__(self):\n",
    "        return len(self.x)\n",
    "    \n",
    "    def __getitem__(self, index):\n",
    "        # ndarray contains negative strides\n",
    "        # to fix, we flip a copy, and flip again\n",
    "        image = torch.from_numpy(np.flip(self.x[index], axis=0).astype('float64').copy())\n",
    "        image = torch.flip(image, dims=(0,))\n",
    "        image = transforms.Normalize(256, 256)(image)\n",
    "        label = self.y[index]\n",
    "        return image.float(), label"
   ]
  },
  {
   "cell_type": "code",
   "execution_count": 122,
   "id": "c9b79015",
   "metadata": {},
   "outputs": [],
   "source": [
    "class Net(nn.Module):   \n",
    "    def __init__(self):\n",
    "        super(Net, self).__init__()\n",
    "\n",
    "        self.cnn_layers = nn.Sequential(\n",
    "          # Defining a 2D convolution layer\n",
    "          nn.Conv2d(1, 64, kernel_size=3, stride=1, padding=1),\n",
    "          nn.BatchNorm2d(64),\n",
    "          nn.ReLU(inplace=True),\n",
    "          nn.MaxPool2d(kernel_size=2, stride=2),\n",
    "          # Defining another 2D convolution layer\n",
    "          nn.Conv2d(64, 64, kernel_size=3, stride=1, padding=1),\n",
    "          nn.BatchNorm2d(64),\n",
    "          nn.ReLU(inplace=True),\n",
    "          nn.MaxPool2d(kernel_size=2, stride=2),\n",
    "        )\n",
    "\n",
    "        self.out = nn.Sequential(\n",
    "          nn.Linear(64 * 64 * 64, 8),\n",
    "          nn.Softmax()\n",
    "        )\n",
    "\n",
    "    # Defining the forward pass    \n",
    "    def forward(self, x):\n",
    "        x = self.cnn_layers(x)\n",
    "        x = x.view(x.size(0), -1)\n",
    "        x = self.out(x)\n",
    "        return x"
   ]
  },
  {
   "cell_type": "code",
   "execution_count": 110,
   "id": "076730b2",
   "metadata": {},
   "outputs": [
    {
     "name": "stdout",
     "output_type": "stream",
     "text": [
      "cpu\n"
     ]
    }
   ],
   "source": [
    "device = torch.device('cuda' if torch.cuda.is_available() else 'cpu')\n",
    "print(device)"
   ]
  },
  {
   "cell_type": "markdown",
   "id": "4fad37d9",
   "metadata": {},
   "source": [
    "## First overfit on a single batch\n",
    "\n",
    "Current model does not seem to be learning"
   ]
  },
  {
   "cell_type": "code",
   "execution_count": null,
   "id": "ee939da2",
   "metadata": {},
   "outputs": [],
   "source": [
    "# Use dotdict util to emulate argparse\n",
    "class dotdict(dict):\n",
    "    \"\"\"dot.notation access to dictionary attributes\"\"\"\n",
    "    __getattr__ = dict.get\n",
    "    __setattr__ = dict.__setitem__\n",
    "    __delattr__ = dict.__delitem__"
   ]
  },
  {
   "cell_type": "code",
   "execution_count": 123,
   "id": "4bb9c80a",
   "metadata": {},
   "outputs": [
    {
     "name": "stdout",
     "output_type": "stream",
     "text": [
      "Epoch 0 Loss 2.029628038406372\n",
      "Epoch 1 Loss 1.4625848531723022\n",
      "Epoch 2 Loss 1.461548089981079\n",
      "Epoch 3 Loss 1.4615304470062256\n",
      "Epoch 4 Loss 1.4615230560302734\n",
      "Epoch 5 Loss 1.4615168571472168\n",
      "Epoch 6 Loss 1.4615130424499512\n",
      "Epoch 7 Loss 1.4615108966827393\n",
      "Epoch 8 Loss 1.4615099430084229\n",
      "Epoch 9 Loss 1.4615094661712646\n",
      "Epoch 10 Loss 1.4615092277526855\n",
      "Epoch 11 Loss 1.4615089893341064\n",
      "Epoch 12 Loss 1.4615089893341064\n",
      "Epoch 13 Loss 1.4615089893341064\n",
      "Epoch 14 Loss 1.4615089893341064\n",
      "Epoch 15 Loss 1.4615089893341064\n",
      "Epoch 16 Loss 1.4615089893341064\n",
      "Epoch 17 Loss 1.4615089893341064\n",
      "Epoch 18 Loss 1.4615089893341064\n",
      "Epoch 19 Loss 1.4615089893341064\n",
      "Epoch 20 Loss 1.4615089893341064\n",
      "Epoch 21 Loss 1.4615089893341064\n",
      "Epoch 22 Loss 1.4615089893341064\n",
      "Epoch 23 Loss 1.4615089893341064\n",
      "Epoch 24 Loss 1.4615089893341064\n",
      "Epoch 25 Loss 1.4615089893341064\n",
      "Epoch 26 Loss 1.4615089893341064\n",
      "Epoch 27 Loss 1.4615089893341064\n",
      "Epoch 28 Loss 1.4615089893341064\n",
      "Epoch 29 Loss 1.4615089893341064\n",
      "Epoch 30 Loss 1.4615089893341064\n",
      "Epoch 31 Loss 1.4615089893341064\n",
      "Epoch 32 Loss 1.4615089893341064\n",
      "Epoch 33 Loss 1.4615089893341064\n",
      "Epoch 34 Loss 1.4615089893341064\n",
      "Epoch 35 Loss 1.4615089893341064\n",
      "Epoch 36 Loss 1.4615089893341064\n",
      "Epoch 37 Loss 1.4615089893341064\n",
      "Epoch 38 Loss 1.4615089893341064\n",
      "Epoch 39 Loss 1.4615089893341064\n",
      "Epoch 40 Loss 1.4615089893341064\n",
      "Epoch 41 Loss 1.4615089893341064\n",
      "Epoch 42 Loss 1.4615089893341064\n",
      "Epoch 43 Loss 1.4615089893341064\n",
      "Epoch 44 Loss 1.4615089893341064\n",
      "Epoch 45 Loss 1.4615089893341064\n",
      "Epoch 46 Loss 1.4615089893341064\n",
      "Epoch 47 Loss 1.4615089893341064\n",
      "Epoch 48 Loss 1.4615089893341064\n",
      "Epoch 49 Loss 1.4615089893341064\n",
      "Epoch 50 Loss 1.4615089893341064\n",
      "Epoch 51 Loss 1.4615089893341064\n",
      "Epoch 52 Loss 1.4615089893341064\n",
      "Epoch 53 Loss 1.4615089893341064\n",
      "Epoch 54 Loss 1.4615089893341064\n",
      "Epoch 55 Loss 1.4615089893341064\n",
      "Epoch 56 Loss 1.4615089893341064\n",
      "Epoch 57 Loss 1.4615089893341064\n",
      "Epoch 58 Loss 1.4615089893341064\n",
      "Epoch 59 Loss 1.4615089893341064\n",
      "Epoch 60 Loss 1.4615089893341064\n",
      "Epoch 61 Loss 1.4615089893341064\n",
      "Epoch 62 Loss 1.4615089893341064\n",
      "Epoch 63 Loss 1.4615089893341064\n",
      "Epoch 64 Loss 1.4615089893341064\n",
      "Epoch 65 Loss 1.4615089893341064\n",
      "Epoch 66 Loss 1.4615089893341064\n",
      "Epoch 67 Loss 1.4615089893341064\n",
      "Epoch 68 Loss 1.4615089893341064\n",
      "Epoch 69 Loss 1.4615089893341064\n",
      "Epoch 70 Loss 1.4615089893341064\n",
      "Epoch 71 Loss 1.4615089893341064\n",
      "Epoch 72 Loss 1.4615089893341064\n",
      "Epoch 73 Loss 1.4615089893341064\n",
      "Epoch 74 Loss 1.4615089893341064\n",
      "Epoch 75 Loss 1.4615089893341064\n",
      "Epoch 76 Loss 1.4615089893341064\n",
      "Epoch 77 Loss 1.4615089893341064\n",
      "Epoch 78 Loss 1.4615089893341064\n",
      "Epoch 79 Loss 1.4615089893341064\n",
      "Epoch 80 Loss 1.4615089893341064\n",
      "Epoch 81 Loss 1.4615089893341064\n",
      "Epoch 82 Loss 1.4615089893341064\n",
      "Epoch 83 Loss 1.4615089893341064\n",
      "Epoch 84 Loss 1.4615089893341064\n",
      "Epoch 85 Loss 1.4615089893341064\n",
      "Epoch 86 Loss 1.4615089893341064\n",
      "Epoch 87 Loss 1.4615089893341064\n",
      "Epoch 88 Loss 1.4615089893341064\n",
      "Epoch 89 Loss 1.4615089893341064\n",
      "Epoch 90 Loss 1.4615089893341064\n",
      "Epoch 91 Loss 1.4615089893341064\n",
      "Epoch 92 Loss 1.4615089893341064\n",
      "Epoch 93 Loss 1.4615089893341064\n",
      "Epoch 94 Loss 1.4615089893341064\n",
      "Epoch 95 Loss 1.4615089893341064\n",
      "Epoch 96 Loss 1.4615089893341064\n",
      "Epoch 97 Loss 1.4615089893341064\n",
      "Epoch 98 Loss 1.4615089893341064\n",
      "Epoch 99 Loss 1.4615089893341064\n"
     ]
    }
   ],
   "source": [
    "train_set = FMADataset(mode='training')\n",
    "val_set = FMADataset(mode='validation')\n",
    "train_loader = DataLoader(train_set, batch_size=args.batch_size, shuffle=False)\n",
    "val_loader = DataLoader(val_set, batch_size=args.batch_size, shuffle=False)\n",
    "model = Net()\n",
    "optim = torch.optim.Adam(model.parameters(), lr=args.learning_rate)\n",
    "# scheduler = None\n",
    "scheduler = lr_scheduler.OneCycleLR(\n",
    "    optim, \n",
    "    max_lr=args.learning_rate, \n",
    "    epochs=args.num_epochs,\n",
    "    steps_per_epoch=len(train_loader)\n",
    ")\n",
    "loss_function = torch.nn.CrossEntropyLoss()\n",
    "\n",
    "args = {\n",
    "    'learning_rate': 0.01,\n",
    "    'batch_size': 16,\n",
    "    'num_epochs': 100,\n",
    "    'job_directory': 'saved_models'\n",
    "}\n",
    "\n",
    "args = dotdict(args)\n",
    "\n",
    "for ep in range(args.num_epochs):\n",
    "    xs, ys = next(iter(train_loader))\n",
    "    xs, ys = xs.to(device), ys.to(device) \n",
    "    optim.zero_grad()\n",
    "    probs = model(xs)\n",
    "    ys = torch.max(ys, 1)[1] # Turns out nn.Softmax() takes ints (0-7), not 1-hot encoded vectors, oops.\n",
    "    loss = loss_function(probs, ys)    \n",
    "    loss.backward()\n",
    "    optim.step()\n",
    "    if scheduler is not None:\n",
    "        scheduler.step()\n",
    "\n",
    "    print(f'Epoch {ep} Loss {loss.item()}')"
   ]
  },
  {
   "cell_type": "code",
   "execution_count": 103,
   "id": "45044b99",
   "metadata": {},
   "outputs": [],
   "source": [
    "   \n",
    "args = {\n",
    "    'learning_rate': 0.001,\n",
    "    'batch_size': 300,\n",
    "    'num_epochs': 4,\n",
    "    'job_directory': 'saved_models'\n",
    "}\n",
    "\n",
    "args = dotdict(args)"
   ]
  },
  {
   "cell_type": "code",
   "execution_count": 114,
   "id": "82bc3ec2",
   "metadata": {},
   "outputs": [],
   "source": [
    "def fit(args):\n",
    "    train_set = FMADataset(mode='training')\n",
    "    val_set = FMADataset(mode='validation')\n",
    "    \n",
    "    train_loader = DataLoader(train_set, batch_size=args.batch_size, shuffle=True)\n",
    "    val_loader = DataLoader(val_set, batch_size=args.batch_size, shuffle=False)\n",
    "    \n",
    "    model = Net()\n",
    "    optim = torch.optim.Adam(model.parameters(), lr=args.learning_rate)\n",
    "    # scheduler = None\n",
    "    scheduler = lr_scheduler.OneCycleLR(\n",
    "        optim, \n",
    "        max_lr=args.learning_rate, \n",
    "        epochs=args.num_epochs,\n",
    "        steps_per_epoch=len(train_loader)\n",
    "    )\n",
    "    loss_function = torch.nn.NLLLoss()\n",
    "    \n",
    "    # Keep track of metrics\n",
    "    total_train_loss, total_val_loss = [], []\n",
    "    \n",
    "    print('Train Loss    Val Loss')\n",
    "    for epoch in range(args.num_epochs):\n",
    "        start = time.time() # Track elapsed time for training/validation\n",
    "        model.train()\n",
    "        for xs, ys in train_loader:\n",
    "            xs, ys = xs.to(device), ys.to(device)\n",
    "            \n",
    "            optim.zero_grad()\n",
    "            probs = model(xs)\n",
    "            ys = torch.max(ys, 1)[1]\n",
    "            loss = loss_function(probs, ys)\n",
    "            \n",
    "            loss.backward()\n",
    "            optimizer.step()\n",
    "            if scheduler is not None:\n",
    "                scheduler.step()\n",
    "            \n",
    "            # Track metrics\n",
    "            total_train_loss.append(loss.item())\n",
    "            \n",
    "        model.eval()\n",
    "        with torch.no_grad():\n",
    "            for xs, ys in val_loader:\n",
    "                xs, ys = xs.to(device), ys.to(device)\n",
    "                probs = model(xs)\n",
    "                loss = loss_function(probs, ys)\n",
    "                \n",
    "                # Track metrics\n",
    "                total_val_loss.append(loss.item())\n",
    "                                      \n",
    "        elapsed = time.time() - start\n",
    "        print(f'{epoch:5d}{total_train_loss[-1]:14.4f}{total_val_loss[-1]:12.4f}')\n",
    "        timer(elapsed)\n",
    "    \n",
    "    export_path = os.path.join(args.job_dir, 'test_model.pth')\n",
    "    torch.save(model.state_dict(), export_path)"
   ]
  },
  {
   "cell_type": "code",
   "execution_count": 1,
   "id": "ac43cd3f",
   "metadata": {},
   "outputs": [
    {
     "ename": "NameError",
     "evalue": "name 'FMADataset' is not defined",
     "output_type": "error",
     "traceback": [
      "\u001b[0;31m---------------------------------------------------------------------------\u001b[0m",
      "\u001b[0;31mNameError\u001b[0m                                 Traceback (most recent call last)",
      "\u001b[0;32m<ipython-input-1-6bede7171aa4>\u001b[0m in \u001b[0;36m<module>\u001b[0;34m\u001b[0m\n\u001b[0;32m----> 1\u001b[0;31m \u001b[0mtrain_set\u001b[0m \u001b[0;34m=\u001b[0m \u001b[0mFMADataset\u001b[0m\u001b[0;34m(\u001b[0m\u001b[0mmode\u001b[0m\u001b[0;34m=\u001b[0m\u001b[0;34m'training'\u001b[0m\u001b[0;34m)\u001b[0m\u001b[0;34m\u001b[0m\u001b[0;34m\u001b[0m\u001b[0m\n\u001b[0m\u001b[1;32m      2\u001b[0m \u001b[0mtrain_loader\u001b[0m \u001b[0;34m=\u001b[0m \u001b[0mDataLoader\u001b[0m\u001b[0;34m(\u001b[0m\u001b[0mtrain_set\u001b[0m\u001b[0;34m,\u001b[0m \u001b[0mbatch_size\u001b[0m\u001b[0;34m=\u001b[0m\u001b[0margs\u001b[0m\u001b[0;34m.\u001b[0m\u001b[0mbatch_size\u001b[0m\u001b[0;34m,\u001b[0m \u001b[0mshuffle\u001b[0m\u001b[0;34m=\u001b[0m\u001b[0;32mTrue\u001b[0m\u001b[0;34m)\u001b[0m\u001b[0;34m\u001b[0m\u001b[0;34m\u001b[0m\u001b[0m\n\u001b[1;32m      3\u001b[0m \u001b[0mxs\u001b[0m\u001b[0;34m,\u001b[0m \u001b[0mys\u001b[0m \u001b[0;34m=\u001b[0m \u001b[0mnext\u001b[0m\u001b[0;34m(\u001b[0m\u001b[0miter\u001b[0m\u001b[0;34m(\u001b[0m\u001b[0mtrain_loader\u001b[0m\u001b[0;34m)\u001b[0m\u001b[0;34m)\u001b[0m\u001b[0;34m\u001b[0m\u001b[0;34m\u001b[0m\u001b[0m\n\u001b[1;32m      4\u001b[0m \u001b[0mprint\u001b[0m\u001b[0;34m(\u001b[0m\u001b[0mxs\u001b[0m\u001b[0;34m.\u001b[0m\u001b[0mshape\u001b[0m\u001b[0;34m,\u001b[0m \u001b[0mys\u001b[0m\u001b[0;34m.\u001b[0m\u001b[0mshape\u001b[0m\u001b[0;34m)\u001b[0m\u001b[0;34m\u001b[0m\u001b[0;34m\u001b[0m\u001b[0m\n\u001b[1;32m      5\u001b[0m \u001b[0mprobs\u001b[0m\u001b[0;34m.\u001b[0m\u001b[0mshape\u001b[0m\u001b[0;34m\u001b[0m\u001b[0;34m\u001b[0m\u001b[0m\n",
      "\u001b[0;31mNameError\u001b[0m: name 'FMADataset' is not defined"
     ]
    }
   ],
   "source": [
    "train_set = FMADataset(mode='training')\n",
    "train_loader = DataLoader(train_set, batch_size=args.batch_size, shuffle=True)\n",
    "xs, ys = next(iter(train_loader))\n",
    "print(xs.shape, ys.shape)\n",
    "probs.shape"
   ]
  },
  {
   "cell_type": "code",
   "execution_count": null,
   "id": "00c2e65a",
   "metadata": {},
   "outputs": [],
   "source": []
  }
 ],
 "metadata": {
  "environment": {
   "name": "pytorch-gpu.1-8.m68",
   "type": "gcloud",
   "uri": "gcr.io/deeplearning-platform-release/pytorch-gpu.1-8:m68"
  },
  "kernelspec": {
   "display_name": "Python [conda env:root] *",
   "language": "python",
   "name": "conda-root-py"
  },
  "language_info": {
   "codemirror_mode": {
    "name": "ipython",
    "version": 3
   },
   "file_extension": ".py",
   "mimetype": "text/x-python",
   "name": "python",
   "nbconvert_exporter": "python",
   "pygments_lexer": "ipython3",
   "version": "3.7.10"
  }
 },
 "nbformat": 4,
 "nbformat_minor": 5
}
